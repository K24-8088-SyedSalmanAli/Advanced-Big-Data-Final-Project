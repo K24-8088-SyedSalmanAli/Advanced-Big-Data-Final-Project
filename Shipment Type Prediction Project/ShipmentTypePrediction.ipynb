{
 "cells": [
  {
   "cell_type": "markdown",
   "metadata": {},
   "source": [
    "<a id=\"3\"></a>\n",
    "## **<div style=\"padding:10px;color:white;display:fill;border-radius:5px;background-color:#e55b17;font-size:120%;font-family:Verdana;\"><center><span> Import Libraries </span></center></div>**"
   ]
  },
  {
   "cell_type": "code",
   "execution_count": 1,
   "metadata": {
    "id": "FDy_-Q0pzv0s"
   },
   "outputs": [],
   "source": [
    "from pyspark.sql import SparkSession\n",
    "from pyspark.sql.functions import col\n",
    "from pyspark.ml.feature import StringIndexer, VectorAssembler\n",
    "from pyspark.ml.classification import RandomForestClassifier, LogisticRegression\n",
    "from pyspark.ml.evaluation import MulticlassClassificationEvaluator\n",
    "import matplotlib.pyplot as plt\n",
    "from pyspark.sql.functions import udf\n",
    "from pyspark.sql.types import StringType"
   ]
  },
  {
   "cell_type": "markdown",
   "metadata": {},
   "source": [
    "<a id=\"3\"></a>\n",
    "## **<div style=\"padding:10px;color:white;display:fill;border-radius:5px;background-color:#e55b17;font-size:120%;font-family:Verdana;\"><center><span>1. Spark Session</span></center></div>**"
   ]
  },
  {
   "cell_type": "code",
   "execution_count": null,
   "metadata": {},
   "outputs": [],
   "source": [
    "spark = SparkSession.builder.appName(\"ShipmentModePrediction\").getOrCreate()"
   ]
  },
  {
   "cell_type": "markdown",
   "metadata": {},
   "source": [
    "<a id=\"3\"></a>\n",
    "## **<div style=\"padding:10px;color:white;display:fill;border-radius:5px;background-color:#e55b17;font-size:120%;font-family:Verdana;\"><center><span>2. Data Reading</span></center></div>**"
   ]
  },
  {
   "cell_type": "code",
   "execution_count": 2,
   "metadata": {
    "colab": {
     "base_uri": "https://localhost:8080/"
    },
    "id": "eAx9V_Gaz4_U",
    "outputId": "2a2d51dd-797d-40d7-e649-7a1ac4da442d"
   },
   "outputs": [
    {
     "name": "stdout",
     "output_type": "stream",
     "text": [
      "root\n",
      " |-- ID: integer (nullable = true)\n",
      " |-- Project Code: string (nullable = true)\n",
      " |-- PQ #: string (nullable = true)\n",
      " |-- PO / SO #: string (nullable = true)\n",
      " |-- ASN/DN #: string (nullable = true)\n",
      " |-- Country: string (nullable = true)\n",
      " |-- Managed By: string (nullable = true)\n",
      " |-- Fulfill Via: string (nullable = true)\n",
      " |-- Vendor INCO Term: string (nullable = true)\n",
      " |-- Shipment Mode: string (nullable = true)\n",
      " |-- PQ First Sent to Client Date: string (nullable = true)\n",
      " |-- PO Sent to Vendor Date: string (nullable = true)\n",
      " |-- Scheduled Delivery Date: string (nullable = true)\n",
      " |-- Delivered to Client Date: string (nullable = true)\n",
      " |-- Delivery Recorded Date: string (nullable = true)\n",
      " |-- Product Group: string (nullable = true)\n",
      " |-- Sub Classification: string (nullable = true)\n",
      " |-- Vendor: string (nullable = true)\n",
      " |-- Item Description: string (nullable = true)\n",
      " |-- Molecule/Test Type: string (nullable = true)\n",
      " |-- Brand: string (nullable = true)\n",
      " |-- Dosage: string (nullable = true)\n",
      " |-- Dosage Form: string (nullable = true)\n",
      " |-- Unit of Measure (Per Pack): integer (nullable = true)\n",
      " |-- Line Item Quantity: integer (nullable = true)\n",
      " |-- Line Item Value: double (nullable = true)\n",
      " |-- Pack Price: double (nullable = true)\n",
      " |-- Unit Price: double (nullable = true)\n",
      " |-- Manufacturing Site: string (nullable = true)\n",
      " |-- First Line Designation: string (nullable = true)\n",
      " |-- Weight (Kilograms): string (nullable = true)\n",
      " |-- Freight Cost (USD): string (nullable = true)\n",
      " |-- Line Item Insurance (USD): double (nullable = true)\n",
      "\n",
      "+---+------------+--------------+---------+--------+-------------+----------+-----------+----------------+-------------+----------------------------+----------------------+-----------------------+------------------------+----------------------+-------------+------------------+--------------------+--------------------+--------------------+---------+-------+---------------+--------------------------+------------------+---------------+----------+----------+--------------------+----------------------+------------------+------------------+-------------------------+\n",
      "| ID|Project Code|          PQ #|PO / SO #|ASN/DN #|      Country|Managed By|Fulfill Via|Vendor INCO Term|Shipment Mode|PQ First Sent to Client Date|PO Sent to Vendor Date|Scheduled Delivery Date|Delivered to Client Date|Delivery Recorded Date|Product Group|Sub Classification|              Vendor|    Item Description|  Molecule/Test Type|    Brand| Dosage|    Dosage Form|Unit of Measure (Per Pack)|Line Item Quantity|Line Item Value|Pack Price|Unit Price|  Manufacturing Site|First Line Designation|Weight (Kilograms)|Freight Cost (USD)|Line Item Insurance (USD)|\n",
      "+---+------------+--------------+---------+--------+-------------+----------+-----------+----------------+-------------+----------------------------+----------------------+-----------------------+------------------------+----------------------+-------------+------------------+--------------------+--------------------+--------------------+---------+-------+---------------+--------------------------+------------------+---------------+----------+----------+--------------------+----------------------+------------------+------------------+-------------------------+\n",
      "|  1|  100-CI-T01|Pre-PQ Process|   SCMS-4|   ASN-8|C�te d'Ivoire|  PMO - US|Direct Drop|             EXW|          Air|              Pre-PQ Process|     Date Not Captured|               2-Jun-06|                2-Jun-06|              2-Jun-06|         HRDT|          HIV test|RANBAXY Fine Chem...|HIV, Reveal G3 Ra...|HIV, Reveal G3 Ra...|   Reveal|    N/A|       Test kit|                        30|                19|          551.0|      29.0|      0.97|Ranbaxy Fine Chem...|                   Yes|                13|            780.34|                     NULL|\n",
      "|  3|  108-VN-T01|Pre-PQ Process|  SCMS-13|  ASN-85|      Vietnam|  PMO - US|Direct Drop|             EXW|          Air|              Pre-PQ Process|     Date Not Captured|              14-Nov-06|               14-Nov-06|             14-Nov-06|          ARV|         Pediatric|Aurobindo Pharma ...|Nevirapine 10mg/m...|          Nevirapine|  Generic|10mg/ml|Oral suspension|                       240|              1000|         6200.0|       6.2|      0.03|Aurobindo Unit II...|                   Yes|               358|            4521.5|                     NULL|\n",
      "|  4|  100-CI-T01|Pre-PQ Process|  SCMS-20|  ASN-14|C�te d'Ivoire|  PMO - US|Direct Drop|             FCA|          Air|              Pre-PQ Process|     Date Not Captured|              27-Aug-06|               27-Aug-06|             27-Aug-06|         HRDT|          HIV test|Abbott GmbH & Co. KG|HIV 1/2, Determin...|HIV 1/2, Determin...|Determine|    N/A|       Test kit|                       100|               500|        40000.0|      80.0|       0.8|ABBVIE GmbH & Co....|                   Yes|               171|           1653.78|                     NULL|\n",
      "| 15|  108-VN-T01|Pre-PQ Process|  SCMS-78|  ASN-50|      Vietnam|  PMO - US|Direct Drop|             EXW|          Air|              Pre-PQ Process|     Date Not Captured|               1-Sep-06|                1-Sep-06|              1-Sep-06|          ARV|             Adult|SUN PHARMACEUTICA...|Lamivudine 150mg,...|          Lamivudine|  Generic|  150mg|         Tablet|                        60|             31920|       127360.8|      3.99|      0.07|Ranbaxy, Paonta S...|                   Yes|              1855|          16007.06|                     NULL|\n",
      "| 16|  108-VN-T01|Pre-PQ Process|  SCMS-81|  ASN-55|      Vietnam|  PMO - US|Direct Drop|             EXW|          Air|              Pre-PQ Process|     Date Not Captured|              11-Aug-06|               11-Aug-06|             11-Aug-06|          ARV|             Adult|Aurobindo Pharma ...|Stavudine 30mg, c...|           Stavudine|  Generic|   30mg|        Capsule|                        60|             38000|       121600.0|       3.2|      0.05|Aurobindo Unit II...|                   Yes|              7590|          45450.08|                     NULL|\n",
      "+---+------------+--------------+---------+--------+-------------+----------+-----------+----------------+-------------+----------------------------+----------------------+-----------------------+------------------------+----------------------+-------------+------------------+--------------------+--------------------+--------------------+---------+-------+---------------+--------------------------+------------------+---------------+----------+----------+--------------------+----------------------+------------------+------------------+-------------------------+\n",
      "only showing top 5 rows\n",
      "\n"
     ]
    }
   ],
   "source": [
    "df = spark.read.csv(\"SCMS_Delivery_History_Dataset.csv\", header=True, inferSchema=True)\n",
    "df.printSchema()\n",
    "df.show(5)"
   ]
  },
  {
   "cell_type": "markdown",
   "metadata": {},
   "source": [
    "<a id=\"3\"></a>\n",
    "## **<div style=\"padding:10px;color:white;display:fill;border-radius:5px;background-color:#e55b17;font-size:120%;font-family:Verdana;\"><center><span>3. Exploratory Data Analysis</span></center></div>**"
   ]
  },
  {
   "cell_type": "code",
   "execution_count": 3,
   "metadata": {
    "colab": {
     "base_uri": "https://localhost:8080/"
    },
    "id": "aegSkcfpz5MP",
    "outputId": "6b34f1dd-92ed-422e-975c-868b5457877c"
   },
   "outputs": [
    {
     "name": "stdout",
     "output_type": "stream",
     "text": [
      "+-------+-----------------+------------+--------------+----------+---------+-----------+--------------------+-----------+----------------+-------------+----------------------------+----------------------+-----------------------+------------------------+----------------------+-------------+------------------+--------------------+--------------------+------------------+------+--------+--------------------+--------------------------+------------------+------------------+------------------+------------------+--------------------+----------------------+--------------------+--------------------+-------------------------+\n",
      "|summary|               ID|Project Code|          PQ #| PO / SO #| ASN/DN #|    Country|          Managed By|Fulfill Via|Vendor INCO Term|Shipment Mode|PQ First Sent to Client Date|PO Sent to Vendor Date|Scheduled Delivery Date|Delivered to Client Date|Delivery Recorded Date|Product Group|Sub Classification|              Vendor|    Item Description|Molecule/Test Type| Brand|  Dosage|         Dosage Form|Unit of Measure (Per Pack)|Line Item Quantity|   Line Item Value|        Pack Price|        Unit Price|  Manufacturing Site|First Line Designation|  Weight (Kilograms)|  Freight Cost (USD)|Line Item Insurance (USD)|\n",
      "+-------+-----------------+------------+--------------+----------+---------+-----------+--------------------+-----------+----------------+-------------+----------------------------+----------------------+-----------------------+------------------------+----------------------+-------------+------------------+--------------------+--------------------+------------------+------+--------+--------------------+--------------------------+------------------+------------------+------------------+------------------+--------------------+----------------------+--------------------+--------------------+-------------------------+\n",
      "|  count|            10324|       10324|         10324|     10324|    10324|      10324|               10324|      10324|           10324|        10324|                       10324|                 10324|                  10324|                   10324|                 10324|        10324|             10324|               10324|               10324|             10324| 10324|   10324|               10324|                     10324|             10324|             10324|             10324|             10324|               10324|                 10324|               10324|               10324|                    10037|\n",
      "|   mean|51098.96822936846|        NULL|          NULL|      NULL|     NULL|       NULL|                NULL|       NULL|            NULL|         NULL|                        NULL|                  NULL|                   NULL|                    NULL|                  NULL|         NULL|              NULL|                NULL|                NULL|              NULL|  NULL|    NULL|                NULL|         77.99089500193723|18332.534870205345| 157650.5673469586|21.910241185587072|0.6117008911274846|                NULL|                  NULL|   3424.441305712492|  11103.234819296562|       240.11762578459653|\n",
      "| stddev|31944.33249594372|        NULL|          NULL|      NULL|     NULL|       NULL|                NULL|       NULL|            NULL|         NULL|                        NULL|                  NULL|                   NULL|                    NULL|                  NULL|         NULL|              NULL|                NULL|                NULL|              NULL|  NULL|    NULL|                NULL|         76.57976396144102| 40035.30296149493|345292.06697883876|45.609223084470756| 3.275807740843415|                NULL|                  NULL|  13526.968269833164|  15813.026692389947|       500.19056766255545|\n",
      "|    min|                1|  100-BJ-T30|     FPQ-10015|DSCM-10090|ASN-10006|Afghanistan|Ethiopia Field Of...|Direct Drop|             CIF|          Air|                   1/10/2012|             1/10/2007|               1-Apr-08|                1-Apr-08|              1-Apr-08|          ACT|               ACT|ABBOTT LABORATORI...|#102198**Didanosi...|          Abacavir|Aluvia|100/25mg|             Capsule|                         1|                 1|               0.0|               0.0|               0.0|               ABBSP|                    No|                   0|                0.75|                      0.0|\n",
      "|    max|            86823|  A02-SN-T50|Pre-PQ Process|    SO-999|   DN-999|   Zimbabwe|South Africa Fiel...|   From RDC|  N/A - From RDC|        Truck|              Pre-PQ Process|        N/A - From RDC|               9-Sep-15|                9-Sep-14|              9-Sep-15|         MRDT|         Pediatric|  ZEPHYR BIOMEDICALS|Zidovudine 300mg,...|        Zidovudine|Ziagen|     N/A|Test kit - Ancillary|                      1000|            619999|         5951990.4|           1345.64|            238.65|bioLytical Labora...|                   Yes|Weight Captured S...|See DN-998 (ID#:1...|                  7708.44|\n",
      "+-------+-----------------+------------+--------------+----------+---------+-----------+--------------------+-----------+----------------+-------------+----------------------------+----------------------+-----------------------+------------------------+----------------------+-------------+------------------+--------------------+--------------------+------------------+------+--------+--------------------+--------------------------+------------------+------------------+------------------+------------------+--------------------+----------------------+--------------------+--------------------+-------------------------+\n",
      "\n",
      "+-------------+-----+\n",
      "|Shipment Mode|count|\n",
      "+-------------+-----+\n",
      "|        Truck| 2830|\n",
      "|          N/A|  360|\n",
      "|  Air Charter|  650|\n",
      "|        Ocean|  371|\n",
      "|          Air| 6113|\n",
      "+-------------+-----+\n",
      "\n",
      "+-----+------------+-----+---------+--------+-------+----------+-----------+----------------+-------------+----------------------------+----------------------+-----------------------+------------------------+----------------------+-------------+------------------+------+----------------+------------------+-----+------+-----------+--------------------------+------------------+---------------+----------+----------+------------------+----------------------+------------------+------------------+-------------------------+\n",
      "|   ID|Project Code| PQ #|PO / SO #|ASN/DN #|Country|Managed By|Fulfill Via|Vendor INCO Term|Shipment Mode|PQ First Sent to Client Date|PO Sent to Vendor Date|Scheduled Delivery Date|Delivered to Client Date|Delivery Recorded Date|Product Group|Sub Classification|Vendor|Item Description|Molecule/Test Type|Brand|Dosage|Dosage Form|Unit of Measure (Per Pack)|Line Item Quantity|Line Item Value|Pack Price|Unit Price|Manufacturing Site|First Line Designation|Weight (Kilograms)|Freight Cost (USD)|Line Item Insurance (USD)|\n",
      "+-----+------------+-----+---------+--------+-------+----------+-----------+----------------+-------------+----------------------------+----------------------+-----------------------+------------------------+----------------------+-------------+------------------+------+----------------+------------------+-----+------+-----------+--------------------------+------------------+---------------+----------+----------+------------------+----------------------+------------------+------------------+-------------------------+\n",
      "|false|       false|false|    false|   false|  false|     false|      false|           false|        false|                       false|                 false|                  false|                   false|                 false|        false|             false| false|           false|             false|false| false|      false|                     false|             false|          false|     false|     false|             false|                 false|             false|             false|                     true|\n",
      "+-----+------------+-----+---------+--------+-------+----------+-----------+----------------+-------------+----------------------------+----------------------+-----------------------+------------------------+----------------------+-------------+------------------+------+----------------+------------------+-----+------+-----------+--------------------------+------------------+---------------+----------+----------+------------------+----------------------+------------------+------------------+-------------------------+\n",
      "only showing top 1 row\n",
      "\n"
     ]
    }
   ],
   "source": [
    "# Initial Data Exploration\n",
    "df.describe().show()\n",
    "df.select('Shipment Mode').groupBy('Shipment Mode').count().show()\n",
    "df.select([col(c).isNull().alias(c) for c in df.columns]).show(1)"
   ]
  },
  {
   "cell_type": "markdown",
   "metadata": {},
   "source": [
    "<a id=\"3\"></a>\n",
    "## **<div style=\"padding:10px;color:white;display:fill;border-radius:5px;background-color:#e55b17;font-size:120%;font-family:Verdana;\"><center><span>4. Data Preprocessing</span></center></div>**"
   ]
  },
  {
   "cell_type": "code",
   "execution_count": 4,
   "metadata": {
    "id": "7JOA-53xz5Oj"
   },
   "outputs": [],
   "source": [
    "# For simplicity, fill missing numerics with 0, strings with \"Unknown\"\n",
    "for field in df.schema.fields:\n",
    "    if str(field.dataType) in [\"DoubleType\", \"IntegerType\"]:\n",
    "        df = df.na.fill({field.name: 0})\n",
    "    else:\n",
    "        df = df.na.fill({field.name: \"Unknown\"})\n"
   ]
  },
  {
   "cell_type": "code",
   "execution_count": 5,
   "metadata": {
    "colab": {
     "base_uri": "https://localhost:8080/",
     "height": 410
    },
    "id": "XgMs5Rh-z5Qz",
    "outputId": "85c1916a-8f5a-4876-e7e5-b9ccc27bb20e"
   },
   "outputs": [
    {
     "data": {
      "image/png": "[encoded data removed]",
      "text/plain": [
       "<Figure size 600x400 with 1 Axes>"
      ]
     },
     "metadata": {},
     "output_type": "display_data"
    }
   ],
   "source": [
    "# shipment distribution of values\n",
    "pd_data = df.select('Shipment Mode').groupBy('Shipment Mode').count().toPandas()\n",
    "plt.figure(figsize=(6,4))\n",
    "plt.bar(pd_data['Shipment Mode'], pd_data['count'])\n",
    "plt.title(\"Distribution of Shipment Mode\")\n",
    "plt.xlabel(\"Shipment Mode\")\n",
    "plt.ylabel(\"Count\")\n",
    "plt.show()\n"
   ]
  },
  {
   "cell_type": "code",
   "execution_count": 6,
   "metadata": {
    "id": "G4bkNu9Gz5VZ"
   },
   "outputs": [],
   "source": [
    "ignore_cols = [\n",
    "    'ID', 'PQ #', 'PO / SO #', 'ASN/DN #', 'Item Description',\n",
    "    'PQ First Sent to Client Date', 'PO Sent to Vendor Date',\n",
    "    'Scheduled Delivery Date', 'Delivered to Client Date', 'Delivery Recorded Date',\n",
    "    'Project Code', 'Country', 'Managed By', 'Fulfill Via', 'Vendor INCO Term',\n",
    "    'Product Group', 'Sub Classification', 'Vendor', 'Molecule/Test Type',\n",
    "    'Brand', 'Dosage', 'Dosage Form', 'Manufacturing Site', 'First Line Designation'\n",
    "]"
   ]
  },
  {
   "cell_type": "markdown",
   "metadata": {},
   "source": [
    "<a id=\"3\"></a>\n",
    "## **<div style=\"padding:10px;color:white;display:fill;border-radius:5px;background-color:#e55b17;font-size:120%;font-family:Verdana;\"><center><span>5. Data Cleaning</span></center></div>**"
   ]
  },
  {
   "cell_type": "code",
   "execution_count": 7,
   "metadata": {
    "id": "Uwh6Bgqp5Rli"
   },
   "outputs": [],
   "source": [
    "df = df.filter(\n",
    "    (col(\"Shipment Mode\").isNotNull()) &\n",
    "    (col(\"Shipment Mode\") != \"\") &\n",
    "    (col(\"Shipment Mode\") != \"N/A\") &\n",
    "    (col(\"Shipment Mode\") != \"NA\")\n",
    ")"
   ]
  },
  {
   "cell_type": "markdown",
   "metadata": {
    "id": "8APb-uhuDkzr"
   },
   "source": [
    "<a id=\"3\"></a>\n",
    "## **<div style=\"padding:10px;color:white;display:fill;border-radius:5px;background-color:#e55b17;font-size:120%;font-family:Verdana;\"><center><span> 6. Feature Engineering</span></center></div>**"
   ]
  },
  {
   "cell_type": "code",
   "execution_count": 8,
   "metadata": {
    "id": "yMllx7Iy3LkV"
   },
   "outputs": [],
   "source": [
    "# Encoding target column (Means assigning labels to target column value)\n",
    "# like that (0 --> Air, 1 --> Truck, 2 --> Air Charter, 3 --> Ocean)\n",
    "# Note : \n",
    "# In Supply Chain Contex difference between Air and Air Charter:\n",
    "# Air: Standard, shared service. Scheduled flights, generally lower cost than charter.\n",
    "# Air Charter: Customized, private service. On-demand, premium cost for urgent or special shipments.\n",
    "\n",
    "target_indexer = StringIndexer(inputCol=\"Shipment Mode\", outputCol=\"ShipmentMode_index\")\n",
    "target_indexer_model = target_indexer.fit(df)\n",
    "df = target_indexer_model.transform(df)"
   ]
  },
  {
   "cell_type": "code",
   "execution_count": 9,
   "metadata": {
    "id": "zZhKBvME2JSe"
   },
   "outputs": [],
   "source": [
    "# Feature Indexing for Categorical Columns\n",
    "feature_cols = [c for c in df.columns if c not in ignore_cols]\n",
    "final_features = []\n",
    "for c in feature_cols:\n",
    "    if str(df.schema[c].dataType) == \"StringType\":\n",
    "        indexer = StringIndexer(inputCol=c, outputCol=c+\"_index\", handleInvalid=\"keep\")\n",
    "        df = indexer.fit(df).transform(df)\n",
    "        final_features.append(c+\"_index\")\n",
    "    else:\n",
    "        final_features.append(c)"
   ]
  },
  {
   "cell_type": "code",
   "execution_count": 10,
   "metadata": {
    "id": "nGJkAKOn3wRX"
   },
   "outputs": [],
   "source": [
    "# Corner case casting only that column if the column is in your final_features\n",
    "for c in [\"Weight (Kilograms)\", \"Freight Cost (USD)\"]:\n",
    "    if c in final_features:\n",
    "        df = df.withColumn(c, df[c].cast(\"double\"))"
   ]
  },
  {
   "cell_type": "code",
   "execution_count": 11,
   "metadata": {
    "id": "qKXyh9Narmfx"
   },
   "outputs": [],
   "source": [
    "# dropping NA values because we can't fill target column to be mean or median or mode\n",
    "df_clean = df.dropna(subset=final_features + [\"ShipmentMode_index\"])"
   ]
  },
  {
   "cell_type": "code",
   "execution_count": 12,
   "metadata": {
    "id": "Rw2s3X7lz5Xq"
   },
   "outputs": [],
   "source": [
    "# this step will make all the feature_cols column into one column features for Machine Learning model\n",
    "assembler = VectorAssembler(inputCols=final_features, outputCol=\"features\")\n",
    "df_clean = assembler.transform(df_clean)"
   ]
  },
  {
   "cell_type": "markdown",
   "metadata": {},
   "source": [
    "<a id=\"3\"></a>\n",
    "## **<div style=\"padding:10px;color:white;display:fill;border-radius:5px;background-color:#e55b17;font-size:120%;font-family:Verdana;\"><center><span>7. Train-Test Split</span></center></div>**"
   ]
  },
  {
   "cell_type": "code",
   "execution_count": 13,
   "metadata": {
    "id": "UnpHSPjWz5Z_"
   },
   "outputs": [],
   "source": [
    "train_data, test_data = df_clean.randomSplit([0.8, 0.2], seed=42)"
   ]
  },
  {
   "cell_type": "markdown",
   "metadata": {
    "id": "7HBc4ne1D-Aq"
   },
   "source": [
    "<a id=\"3\"></a>\n",
    "## **<div style=\"padding:10px;color:white;display:fill;border-radius:5px;background-color:#e55b17;font-size:120%;font-family:Verdana;\"><center><span>8. Model Building</span></center></div>**"
   ]
  },
  {
   "cell_type": "markdown",
   "metadata": {},
   "source": [
    "<a id=\"3\"></a>\n",
    "#### **<div style=\"padding:10px;color:white;display:fill;border-radius:5px;background-color:#e55b17;font-size:120%;font-family:Verdana;\"><center><span>Random Forest Classifier</span></center></div>**"
   ]
  },
  {
   "cell_type": "code",
   "execution_count": 14,
   "metadata": {
    "id": "X9Kdxmw5z5cX"
   },
   "outputs": [],
   "source": [
    "rf = RandomForestClassifier(labelCol=\"ShipmentMode_index\", featuresCol=\"features\")\n",
    "rf_model = rf.fit(train_data)\n",
    "rf_preds = rf_model.transform(test_data)"
   ]
  },
  {
   "cell_type": "markdown",
   "metadata": {},
   "source": [
    "<a id=\"3\"></a>\n",
    "#### **<div style=\"padding:10px;color:white;display:fill;border-radius:5px;background-color:#e55b17;font-size:120%;font-family:Verdana;\"><center><span>Evaluation & Predictions</span></center></div>**"
   ]
  },
  {
   "cell_type": "code",
   "execution_count": 15,
   "metadata": {
    "colab": {
     "base_uri": "https://localhost:8080/"
    },
    "id": "SSt1X65Hz5f0",
    "outputId": "c82c0d17-dc4e-4fd7-d4b4-0d69a954bdde"
   },
   "outputs": [
    {
     "name": "stdout",
     "output_type": "stream",
     "text": [
      "Random Forest Accuracy: 0.726\n",
      "+------------------+----------+-----+\n",
      "|ShipmentMode_index|prediction|count|\n",
      "+------------------+----------+-----+\n",
      "|               2.0|       0.0|   64|\n",
      "|               1.0|       1.0|   69|\n",
      "|               0.0|       1.0|   19|\n",
      "|               1.0|       0.0|  159|\n",
      "|               2.0|       2.0|    1|\n",
      "|               3.0|       1.0|   24|\n",
      "|               2.0|       1.0|   21|\n",
      "|               0.0|       0.0|  737|\n",
      "|               3.0|       3.0|    6|\n",
      "|               0.0|       3.0|    1|\n",
      "|               3.0|       0.0|   19|\n",
      "+------------------+----------+-----+\n",
      "\n"
     ]
    }
   ],
   "source": [
    "evaluator = MulticlassClassificationEvaluator(labelCol=\"ShipmentMode_index\", predictionCol=\"prediction\", metricName=\"accuracy\")\n",
    "rf_accuracy = evaluator.evaluate(rf_preds)\n",
    "print(f\"Random Forest Accuracy: {rf_accuracy:.3f}\")\n",
    "\n",
    "rf_preds.groupBy(\"ShipmentMode_index\", \"prediction\").count().show()"
   ]
  },
  {
   "cell_type": "code",
   "execution_count": 16,
   "metadata": {
    "colab": {
     "base_uri": "https://localhost:8080/"
    },
    "id": "ojlomUA5wOjd",
    "outputId": "0ba793ca-f3c5-4395-adb2-227bfe1dcfef"
   },
   "outputs": [
    {
     "name": "stdout",
     "output_type": "stream",
     "text": [
      "+------------------+------------+----------+---------------+-----+\n",
      "|ShipmentMode_index|Actual_Label|prediction|Predicted_Label|count|\n",
      "+------------------+------------+----------+---------------+-----+\n",
      "|0.0               |Air         |3.0       |Ocean          |1    |\n",
      "|1.0               |Truck       |0.0       |Air            |159  |\n",
      "|3.0               |Ocean       |1.0       |Truck          |24   |\n",
      "|0.0               |Air         |0.0       |Air            |737  |\n",
      "|1.0               |Truck       |1.0       |Truck          |69   |\n",
      "|2.0               |Air Charter |2.0       |Air Charter    |1    |\n",
      "|2.0               |Air Charter |0.0       |Air            |64   |\n",
      "|3.0               |Ocean       |3.0       |Ocean          |6    |\n",
      "|3.0               |Ocean       |0.0       |Air            |19   |\n",
      "|2.0               |Air Charter |1.0       |Truck          |21   |\n",
      "|0.0               |Air         |1.0       |Truck          |19   |\n",
      "+------------------+------------+----------+---------------+-----+\n",
      "\n"
     ]
    }
   ],
   "source": [
    "# Convert index back to string\n",
    "labels = target_indexer_model.labels\n",
    "\n",
    "def idx2label(idx):\n",
    "    return labels[int(idx)] if idx is not None else None\n",
    "\n",
    "idx2label_udf = udf(idx2label, StringType())\n",
    "\n",
    "rf_preds = rf_preds.withColumn(\"Actual_Label\", idx2label_udf(\"ShipmentMode_index\"))\n",
    "rf_preds = rf_preds.withColumn(\"Predicted_Label\", idx2label_udf(\"prediction\"))\n",
    "\n",
    "rf_preds.groupBy(\n",
    "    \"ShipmentMode_index\", \"Actual_Label\",\n",
    "    \"prediction\", \"Predicted_Label\"\n",
    ").count().show(truncate=False)"
   ]
  },
  {
   "cell_type": "markdown",
   "metadata": {},
   "source": [
    "<a id=\"3\"></a>\n",
    "#### **<div style=\"padding:10px;color:white;display:fill;border-radius:5px;background-color:#e55b17;font-size:120%;font-family:Verdana;\"><center><span>Logistic Regression</span></center></div>**"
   ]
  },
  {
   "cell_type": "code",
   "execution_count": 17,
   "metadata": {
    "id": "-2aCqr7H0MOH"
   },
   "outputs": [],
   "source": [
    "lr = LogisticRegression(labelCol=\"ShipmentMode_index\", featuresCol=\"features\", maxIter=20)\n",
    "lr_model = lr.fit(train_data)\n",
    "lr_preds = lr_model.transform(test_data)"
   ]
  },
  {
   "cell_type": "markdown",
   "metadata": {},
   "source": [
    "<a id=\"3\"></a>\n",
    "#### **<div style=\"padding:10px;color:white;display:fill;border-radius:5px;background-color:#e55b17;font-size:120%;font-family:Verdana;\"><center><span>Evaluation & Predictions</span></center></div>**"
   ]
  },
  {
   "cell_type": "code",
   "execution_count": 18,
   "metadata": {
    "colab": {
     "base_uri": "https://localhost:8080/"
    },
    "id": "gTvNOu_GwDWg",
    "outputId": "ee35cb96-1958-497b-95b8-3e249c722e54"
   },
   "outputs": [
    {
     "name": "stdout",
     "output_type": "stream",
     "text": [
      "Logistic Regression Accuracy: 0.725\n",
      "+------------------+----------+-----+\n",
      "|ShipmentMode_index|prediction|count|\n",
      "+------------------+----------+-----+\n",
      "|               2.0|       0.0|   70|\n",
      "|               1.0|       1.0|   54|\n",
      "|               0.0|       1.0|    8|\n",
      "|               1.0|       0.0|  167|\n",
      "|               2.0|       2.0|    2|\n",
      "|               3.0|       1.0|   15|\n",
      "|               2.0|       1.0|   14|\n",
      "|               1.0|       2.0|    4|\n",
      "|               0.0|       0.0|  746|\n",
      "|               1.0|       3.0|    3|\n",
      "|               0.0|       2.0|    3|\n",
      "|               3.0|       3.0|   10|\n",
      "|               3.0|       0.0|   24|\n",
      "+------------------+----------+-----+\n",
      "\n"
     ]
    }
   ],
   "source": [
    "lr_accuracy = evaluator.evaluate(lr_preds)\n",
    "print(f\"Logistic Regression Accuracy: {lr_accuracy:.3f}\")\n",
    "\n",
    "lr_preds.groupBy(\"ShipmentMode_index\", \"prediction\").count().show()"
   ]
  },
  {
   "cell_type": "code",
   "execution_count": 19,
   "metadata": {
    "colab": {
     "base_uri": "https://localhost:8080/"
    },
    "id": "xNBCltMSwwXO",
    "outputId": "69b8237f-5c0b-4caa-c564-c2ff70caccdb"
   },
   "outputs": [
    {
     "name": "stdout",
     "output_type": "stream",
     "text": [
      "+------------------+------------+----------+---------------+-----+\n",
      "|ShipmentMode_index|Actual_Label|prediction|Predicted_Label|count|\n",
      "+------------------+------------+----------+---------------+-----+\n",
      "|1.0               |Truck       |2.0       |Air Charter    |4    |\n",
      "|0.0               |Air         |2.0       |Air Charter    |3    |\n",
      "|1.0               |Truck       |0.0       |Air            |167  |\n",
      "|3.0               |Ocean       |1.0       |Truck          |15   |\n",
      "|0.0               |Air         |0.0       |Air            |746  |\n",
      "|1.0               |Truck       |1.0       |Truck          |54   |\n",
      "|2.0               |Air Charter |2.0       |Air Charter    |2    |\n",
      "|2.0               |Air Charter |0.0       |Air            |70   |\n",
      "|1.0               |Truck       |3.0       |Ocean          |3    |\n",
      "|3.0               |Ocean       |3.0       |Ocean          |10   |\n",
      "|3.0               |Ocean       |0.0       |Air            |24   |\n",
      "|2.0               |Air Charter |1.0       |Truck          |14   |\n",
      "|0.0               |Air         |1.0       |Truck          |8    |\n",
      "+------------------+------------+----------+---------------+-----+\n",
      "\n"
     ]
    }
   ],
   "source": [
    "# Convert index back to string\n",
    "labels = target_indexer_model.labels\n",
    "\n",
    "def idx2label(idx):\n",
    "    return labels[int(idx)] if idx is not None else None\n",
    "\n",
    "idx2label_udf = udf(idx2label, StringType())\n",
    "\n",
    "lr_preds = lr_preds.withColumn(\"Actual_Label\", idx2label_udf(\"ShipmentMode_index\"))\n",
    "lr_preds = lr_preds.withColumn(\"Predicted_Label\", idx2label_udf(\"prediction\"))\n",
    "\n",
    "lr_preds.groupBy(\n",
    "    \"ShipmentMode_index\", \"Actual_Label\",\n",
    "    \"prediction\", \"Predicted_Label\"\n",
    ").count().show(truncate=False)"
   ]
  }
 ],
 "metadata": {
  "colab": {
   "provenance": []
  },
  "kernelspec": {
   "display_name": "Python 3 (ipykernel)",
   "language": "python",
   "name": "python3"
  },
  "language_info": {
   "codemirror_mode": {
    "name": "ipython",
    "version": 3
   },
   "file_extension": ".py",
   "mimetype": "text/x-python",
   "name": "python",
   "nbconvert_exporter": "python",
   "pygments_lexer": "ipython3",
   "version": "3.12.7"
  }
 },
 "nbformat": 4,
 "nbformat_minor": 4
}
